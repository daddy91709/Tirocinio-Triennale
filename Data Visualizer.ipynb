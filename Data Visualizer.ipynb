{
  "cells": [
    {
      "cell_type": "raw",
      "metadata": {},
      "source": [
        "Importazione delle librerie necessarie"
      ]
    },
    {
      "cell_type": "code",
      "execution_count": 1,
      "metadata": {
        "trusted": true
      },
      "outputs": [],
      "source": [
        "# importing prerequisites\n",
        "import sys\n",
        "import requests\n",
        "import tarfile\n",
        "import jsonlines\n",
        "import numpy as np\n",
        "from os import path\n",
        "from PIL import Image\n",
        "from PIL import ImageFont, ImageDraw\n",
        "from glob import glob\n",
        "from matplotlib import pyplot as plt\n",
        "%matplotlib inline\n",
        "\n",
        "destination='HTML/ground truth/'"
      ]
    },
    {
      "cell_type": "raw",
      "metadata": {},
      "source": [
        "Definizione metodo visualizzazione dei dati (Costruzione del codice HTML)"
      ]
    },
    {
      "cell_type": "code",
      "execution_count": 2,
      "metadata": {
        "trusted": true
      },
      "outputs": [],
      "source": [
        "# Helper function to read in tables from the annotations\n",
        "from bs4 import BeautifulSoup as bs\n",
        "from html import escape\n",
        "\n",
        "def format_html(img):\n",
        "    ''' Formats HTML code from tokenized annotation of img\n",
        "    '''\n",
        "    html_code = img['html']['structure']['tokens'].copy()\n",
        "    to_insert = [i for i, tag in enumerate(html_code) if tag in ('<td>', '>')]\n",
        "    for i, cell in zip(to_insert[::-1], img['html']['cells'][::-1]):\n",
        "        if cell['tokens']:\n",
        "            cell = [escape(token) if len(token) == 1 else token for token in cell['tokens']]\n",
        "            cell = ''.join(cell)\n",
        "            html_code.insert(i + 1, cell)\n",
        "    html_code = ''.join(html_code)\n",
        "    html_code = '''<html>\n",
        "                   <head>\n",
        "                   <meta charset=\"UTF-8\">\n",
        "                   <style>\n",
        "                   table, th, td {\n",
        "                     border: 1px solid black;\n",
        "                     font-size: 10px;\n",
        "                   }\n",
        "                   </style>\n",
        "                   </head>\n",
        "                   <body>\n",
        "                   <table frame=\"hsides\" rules=\"groups\" width=\"100%%\">\n",
        "                     %s\n",
        "                   </table>\n",
        "                   </body>\n",
        "                   </html>''' % html_code\n",
        "\n",
        "    # prettify the html\n",
        "    soup = bs(html_code)\n",
        "    html_code = soup.prettify()\n",
        "    return html_code"
      ]
    },
    {
      "cell_type": "raw",
      "metadata": {},
      "source": [
        "Caricamento annotazione JSONL ed estrazione dell'HTML"
      ]
    },
    {
      "cell_type": "code",
      "execution_count": 5,
      "metadata": {
        "trusted": true
      },
      "outputs": [],
      "source": [
        "# Loading annotation and extracting text\n",
        "with jsonlines.open('mariani.jsonl', 'r') as reader:\n",
        "    for line in reader:\n",
        "        filename = line['filename']\n",
        "        name = filename[:-4]\n",
        "\n",
        "        with open(destination+name+'.txt', \"w\", encoding=\"utf-8\") as file:\n",
        "            file.write(format_html(line))"
      ]
    }
  ],
  "metadata": {
    "kernelspec": {
      "display_name": "Python 3",
      "language": "python",
      "name": "python3"
    },
    "language_info": {
      "codemirror_mode": {
        "name": "ipython",
        "version": 3
      },
      "file_extension": ".py",
      "mimetype": "text/x-python",
      "name": "python",
      "nbconvert_exporter": "python",
      "pygments_lexer": "ipython3",
      "version": "3.7.7"
    }
  },
  "nbformat": 4,
  "nbformat_minor": 4
}
